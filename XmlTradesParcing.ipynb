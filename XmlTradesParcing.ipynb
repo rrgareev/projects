{
 "cells": [
  {
   "cell_type": "code",
   "execution_count": 10,
   "metadata": {},
   "outputs": [
    {
     "name": "stdout",
     "output_type": "stream",
     "text": [
      "            trade_time  side    price    amount\n",
      "0  2019-04-04 12:22:03  SELL  65.3698  10000000\n",
      "1  2019-04-04 12:22:03  SELL  65.3698  10000000\n",
      "2  2019-04-04 12:22:03  SELL  65.3698  10000000\n"
     ]
    }
   ],
   "source": [
    "import os\n",
    "import pandas as pd\n",
    "import xml.etree.ElementTree as et\n",
    "\n",
    "files = os.listdir()\n",
    "xml_files = []\n",
    "\n",
    "for file in files:\n",
    "    if file.endswith('xml'):\n",
    "        xml_files.append(file)\n",
    "\n",
    "df_cols = ['trade_time', 'side', 'price', 'amount']\n",
    "out_df = pd.DataFrame(columns = df_cols)\n",
    "\n",
    "for xml in xml_files:\n",
    "    xtree = et.parse(xml)\n",
    "    xroot = xtree.getroot()\n",
    "\n",
    "    trade_time = xroot.find('TradeTime').text\n",
    "    side = xroot.find('Side').text\n",
    "    price = xroot.find('Price').text\n",
    "    amount = xroot.find('Amount').text\n",
    "    \n",
    "    out_df = out_df.append(pd.Series([trade_time, side, price, amount],\n",
    "                       index = df_cols), \n",
    "                       ignore_index = True)\n",
    "print(out_df)"
   ]
  },
  {
   "cell_type": "code",
   "execution_count": 7,
   "metadata": {},
   "outputs": [
    {
     "name": "stdout",
     "output_type": "stream",
     "text": [
      "['stp_trades.xml', 'stp_trades2.xml', 'stp_trades3.xml']\n"
     ]
    }
   ],
   "source": [
    "import os\n",
    "\n",
    "list_of_files = os.listdir()\n",
    "list_of_xml = []\n",
    "\n",
    "for file in list_of_files:\n",
    "    if file.endswith('.xml'):\n",
    "        list_of_xml.append(file)\n",
    "        \n",
    "print(list_of_xml)"
   ]
  },
  {
   "cell_type": "code",
   "execution_count": null,
   "metadata": {},
   "outputs": [],
   "source": []
  }
 ],
 "metadata": {
  "kernelspec": {
   "display_name": "Python 3",
   "language": "python",
   "name": "python3"
  },
  "language_info": {
   "codemirror_mode": {
    "name": "ipython",
    "version": 3
   },
   "file_extension": ".py",
   "mimetype": "text/x-python",
   "name": "python",
   "nbconvert_exporter": "python",
   "pygments_lexer": "ipython3",
   "version": "3.6.4"
  }
 },
 "nbformat": 4,
 "nbformat_minor": 2
}
