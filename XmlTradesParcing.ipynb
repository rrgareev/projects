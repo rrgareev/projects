{
 "cells": [
  {
   "cell_type": "code",
   "execution_count": 10,
   "metadata": {},
   "outputs": [
    {
     "name": "stdout",
     "output_type": "stream",
     "text": [
      "            trade_time  side    price    amount\n",
      "0  2019-04-04 12:22:03  SELL  65.3698  10000000\n"
     ]
    }
   ],
   "source": [
    "import xml.etree.ElementTree as et\n",
    "import pandas as pd\n",
    "\n",
    "xtree = et.parse(\"stp_trades.xml\")\n",
    "xroot = xtree.getroot()\n",
    "\n",
    "df_cols = ['trade_time', 'side', 'price', 'amount']\n",
    "out_df = pd.DataFrame(columns = df_cols)\n",
    "\n",
    "trade_time = xroot.find('TradeTime').text\n",
    "side = xroot.find('Side').text\n",
    "price = xroot.find('Price').text\n",
    "amount = xroot.find('Amount').text\n",
    "    \n",
    "out_df = out_df.append(pd.Series([trade_time, side, price, amount],\n",
    "                       index = df_cols), \n",
    "                       ignore_index = True)\n",
    "print(out_df)"
   ]
  },
  {
   "cell_type": "code",
   "execution_count": null,
   "metadata": {},
   "outputs": [],
   "source": []
  }
 ],
 "metadata": {
  "kernelspec": {
   "display_name": "Python 3",
   "language": "python",
   "name": "python3"
  },
  "language_info": {
   "codemirror_mode": {
    "name": "ipython",
    "version": 3
   },
   "file_extension": ".py",
   "mimetype": "text/x-python",
   "name": "python",
   "nbconvert_exporter": "python",
   "pygments_lexer": "ipython3",
   "version": "3.6.4"
  }
 },
 "nbformat": 4,
 "nbformat_minor": 2
}
